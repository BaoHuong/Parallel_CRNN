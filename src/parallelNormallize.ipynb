{
  "nbformat": 4,
  "nbformat_minor": 0,
  "metadata": {
    "colab": {
      "provenance": [],
      "gpuType": "T4"
    },
    "kernelspec": {
      "name": "python3",
      "display_name": "Python 3"
    },
    "language_info": {
      "name": "python"
    },
    "accelerator": "GPU"
  },
  "cells": [
    {
      "cell_type": "code",
      "execution_count": 11,
      "metadata": {
        "colab": {
          "base_uri": "https://localhost:8080/"
        },
        "id": "TpBZrtMy7WjC",
        "outputId": "6baa30ed-045d-413b-88f3-84831599b964"
      },
      "outputs": [
        {
          "output_type": "stream",
          "name": "stdout",
          "text": [
            "Parallel Normalization Time: 0.13528 seconds\n"
          ]
        },
        {
          "output_type": "stream",
          "name": "stderr",
          "text": [
            "/usr/local/lib/python3.10/dist-packages/numba/cuda/dispatcher.py:536: NumbaPerformanceWarning: Grid size 1 will likely result in GPU under-utilization due to low occupancy.\n",
            "  warn(NumbaPerformanceWarning(msg))\n"
          ]
        }
      ],
      "source": [
        "from numba import cuda, int32\n",
        "\n",
        "import time\n",
        "\n",
        "# Generate a synthetic word dataset\n",
        "#synthetic_dataset = [\"word\" * i for i in range(1, 10001)]  # List of words of varying lengths\n",
        "\n",
        "synthetic_dataset = ('/content/datad4_3eji9tmp')\n",
        "\n",
        "# CUDA kernel for parallel normalization\n",
        "@cuda.jit\n",
        "def normalize_parallel(word_array, max_length, result, lengths):\n",
        "    idx = cuda.grid(1)\n",
        "    if idx < word_array.shape[0]:\n",
        "        for j in range(max_length):\n",
        "            if j < lengths[idx]:\n",
        "                result[idx * max_length + j] = word_array[idx * max_length + j]\n",
        "            else:\n",
        "                result[idx * max_length + j] = ord(' ')\n",
        "\n",
        "# Helper function to convert the word list to a flat list of ASCII values\n",
        "def convert_to_flat_list(word_list):\n",
        "    max_length = max(len(word) for word in word_list)\n",
        "    flat_list = []\n",
        "    lengths = []\n",
        "    for word in word_list:\n",
        "        flat_list.extend(ord(char) for char in word)\n",
        "        lengths.append(len(word))\n",
        "    return flat_list, max_length, lengths\n",
        "\n",
        "# Convert word list to flat list of ASCII values\n",
        "word_array, max_length, lengths = convert_to_flat_list(synthetic_dataset)\n",
        "\n",
        "# Prepare data for CUDA\n",
        "word_array_device = cuda.to_device(word_array)\n",
        "lengths_device = cuda.to_device(lengths)\n",
        "result_device = cuda.device_array(len(synthetic_dataset) * max_length, dtype=int)\n",
        "\n",
        "# Define CUDA grid dimensions\n",
        "threads_per_block = 256\n",
        "blocks_per_grid = (len(synthetic_dataset) + (threads_per_block - 1)) // threads_per_block\n",
        "\n",
        "# Measure runtime for parallel normalization\n",
        "start_time = time.time()\n",
        "normalize_parallel[blocks_per_grid, threads_per_block](word_array_device, max_length, result_device, lengths_device)\n",
        "cuda.synchronize()\n",
        "end_time = time.time()\n",
        "parallel_time = end_time - start_time\n",
        "\n",
        "# Convert result back to list of strings\n",
        "result_host = result_device.copy_to_host()\n",
        "normalized_parallel = [\"\".join(chr(result_host[i * max_length + j]) for j in range(max_length)).rstrip() for i in range(len(synthetic_dataset))]\n",
        "\n",
        "print(f\"Parallel Normalization Time: {parallel_time:.5f} seconds\")\n",
        "\n"
      ]
    },
    {
      "cell_type": "code",
      "source": [
        "def normalize_sequential(word_list):\n",
        "    max_length = max(len(word) for word in word_list)\n",
        "    normalized_list = [(word + ' ' * (max_length - len(word))) for word in word_list]\n",
        "    return normalized_list\n",
        "\n",
        "# Measure runtime for sequential normalization\n",
        "start_time = time.time()\n",
        "normalized_seq = normalize_sequential(synthetic_dataset)\n",
        "end_time = time.time()\n",
        "sequential_time = end_time - start_time\n",
        "\n",
        "print(f\"Sequential Normalization Time: {sequential_time:.5f} seconds\")\n"
      ],
      "metadata": {
        "colab": {
          "base_uri": "https://localhost:8080/"
        },
        "id": "5t9pxKHMPW1G",
        "outputId": "d550b983-1288-4e10-ebb0-7c5ca05f63dd"
      },
      "execution_count": 12,
      "outputs": [
        {
          "output_type": "stream",
          "name": "stdout",
          "text": [
            "Sequential Normalization Time: 0.00014 seconds\n"
          ]
        }
      ]
    }
  ]
}