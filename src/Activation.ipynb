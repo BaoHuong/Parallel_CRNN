{
  "nbformat": 4,
  "nbformat_minor": 0,
  "metadata": {
    "colab": {
      "provenance": []
    },
    "kernelspec": {
      "name": "python3",
      "display_name": "Python 3"
    },
    "language_info": {
      "name": "python"
    }
  },
  "cells": [
    {
      "cell_type": "code",
      "execution_count": null,
      "metadata": {
        "id": "YOlR1Q-VQy91"
      },
      "outputs": [],
      "source": [
        "import numpy as np\n",
        "import time"
      ]
    },
    {
      "cell_type": "code",
      "source": [
        "def relu(x):\n",
        "    return np.maximum(0, x)"
      ],
      "metadata": {
        "id": "YcEbovEPXa2e"
      },
      "execution_count": null,
      "outputs": []
    },
    {
      "cell_type": "code",
      "source": [
        "def softmax(x):\n",
        "    exp_x = np.exp(x - np.max(x))\n",
        "    return exp_x / exp_x.sum(axis=0)"
      ],
      "metadata": {
        "id": "j5vCxwccXdkx"
      },
      "execution_count": null,
      "outputs": []
    },
    {
      "cell_type": "code",
      "source": [
        "# Khởi tạo dữ liệu đầu vào\n",
        "x = np.random.randn(1000)\n",
        "\n",
        "\n",
        "start_time = time.time()\n",
        "relu_output = relu(x)\n",
        "end_time = time.time()\n",
        "print(f\"ReLU execution time: {end_time - start_time} seconds\")\n",
        "\n",
        "\n",
        "start_time = time.time()\n",
        "softmax_output = softmax(x)\n",
        "end_time = time.time()\n",
        "print(f\"Softmax execution time: {end_time - start_time} seconds\")"
      ],
      "metadata": {
        "colab": {
          "base_uri": "https://localhost:8080/"
        },
        "id": "NIpRtRUVXgVL",
        "outputId": "c16a82e1-5747-4d4c-f1dd-3a6c9f337451"
      },
      "execution_count": null,
      "outputs": [
        {
          "output_type": "stream",
          "name": "stdout",
          "text": [
            "ReLU execution time: 0.0045201778411865234 seconds\n",
            "Softmax execution time: 0.00040841102600097656 seconds\n"
          ]
        }
      ]
    },
    {
      "cell_type": "code",
      "source": [
        "def batch_normalization(x, gamma, beta, epsilon=1e-5):\n",
        "    mean = np.mean(x, axis=0)\n",
        "    variance = np.var(x, axis=0)\n",
        "    x_normalized = (x - mean) / np.sqrt(variance + epsilon)\n",
        "    return gamma * x_normalized + beta"
      ],
      "metadata": {
        "id": "yH4GKLvgRAOf"
      },
      "execution_count": null,
      "outputs": []
    },
    {
      "cell_type": "code",
      "source": [
        "# Khởi tạo dữ liệu đầu vào\n",
        "x = np.random.randn(1000, 100)\n",
        "gamma = np.ones(100)\n",
        "beta = np.zeros(100)\n",
        "\n",
        "\n",
        "start_time = time.time()\n",
        "relu_output = relu(x)\n",
        "end_time = time.time()\n",
        "print(f\"ReLU execution time: {end_time - start_time} seconds\")\n",
        "\n",
        "\n",
        "start_time = time.time()\n",
        "softmax_output = softmax(x[0])\n",
        "end_time = time.time()\n",
        "print(f\"Softmax execution time: {end_time - start_time} seconds\")\n",
        "\n",
        "\n",
        "start_time = time.time()\n",
        "batch_norm_output = batch_normalization(x, gamma, beta)\n",
        "end_time = time.time()\n",
        "print(f\"Batch Normalization execution time: {end_time - start_time} seconds\")"
      ],
      "metadata": {
        "colab": {
          "base_uri": "https://localhost:8080/"
        },
        "id": "qn-6_v3kXre3",
        "outputId": "b049bf90-4751-4448-8460-81e3c35b2b6d"
      },
      "execution_count": null,
      "outputs": [
        {
          "output_type": "stream",
          "name": "stdout",
          "text": [
            "ReLU execution time: 0.0008699893951416016 seconds\n",
            "Softmax execution time: 0.00039315223693847656 seconds\n",
            "Batch Normalization execution time: 0.003554821014404297 seconds\n"
          ]
        }
      ]
    }
  ]
}